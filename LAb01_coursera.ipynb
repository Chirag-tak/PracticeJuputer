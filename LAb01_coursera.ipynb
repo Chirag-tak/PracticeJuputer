{
 "cells": [
  {
   "cell_type": "markdown",
   "id": "f8d69f9e-703f-467c-ad5d-ec045f5fbbd0",
   "metadata": {},
   "source": [
    "# INTRODUCTION\n",
    "__Welcome to my Jupyter file__"
   ]
  },
  {
   "cell_type": "markdown",
   "id": "c5f0cedf-98db-4c67-9294-982e8fac98bf",
   "metadata": {},
   "source": [
    "## Exercise 4: Data Science Languages\n",
    "1. Python\n",
    "2. R\n",
    "3. Julia\n",
    "4. scala\n",
    "5. \n",
    "SQL"
   ]
  },
  {
   "cell_type": "markdown",
   "id": "f8df7393-8d40-4c08-a27f-c6060bb8b2dd",
   "metadata": {},
   "source": [
    "## __Exercise 5: Data Science Libraries.__\n",
    "1. numoy\n",
    "2. pandas\n",
    "3. matplotlib\n",
    "4. seaborn"
   ]
  },
  {
   "cell_type": "markdown",
   "id": "2fb4caa5-52e8-4008-b02f-3a261fde132e",
   "metadata": {},
   "source": [
    "|Tool|Description|\n",
    "|-----|-----|\n",
    "|Jupyter|Interactive notebooks for coding|\n",
    "|VS code|Integrated development environment|\n",
    "|Git|Version control system|\n",
    "|Docker|Containerization platform|"
   ]
  },
  {
   "cell_type": "markdown",
   "id": "c65739d1-4e49-4cb7-bee1-4f1e185c263e",
   "metadata": {},
   "source": [
    "## __Introduction to Arithmetic Expressions.__"
   ]
  },
  {
   "cell_type": "code",
   "execution_count": 1,
   "id": "52fa264c-be9d-4594-94ce-bf37d256ba6b",
   "metadata": {},
   "outputs": [
    {
     "name": "stdout",
     "output_type": "stream",
     "text": [
      "Result: 8.0\n"
     ]
    }
   ],
   "source": [
    "# Multiply and add numbers\n",
    "result = (2 * 3) + (4 / 2)\n",
    "print(\"Result:\", result)\n"
   ]
  },
  {
   "cell_type": "code",
   "execution_count": 2,
   "id": "15e72cc7-f9b0-46c1-8019-63e2bc43f83b",
   "metadata": {},
   "outputs": [
    {
     "name": "stdout",
     "output_type": "stream",
     "text": [
      "Hours: 2.0\n"
     ]
    }
   ],
   "source": [
    "# Convert minutes to hours\n",
    "minutes = 120\n",
    "hours = minutes / 60\n",
    "print(\"Hours:\", hours)\n"
   ]
  },
  {
   "cell_type": "markdown",
   "id": "1a5ae49a-b6d1-4698-bafb-028017e2a8e1",
   "metadata": {},
   "source": [
    "__Objectives.__\n",
    "1. Learn about data science languages and libraries.\r",
    "2. \n",
    "Understand basic arithmetic operations in Python\n",
    "3.  \r\n",
    "Practice coding exercises related to data manipulation."
   ]
  },
  {
   "cell_type": "markdown",
   "id": "dc1b8415-d1e3-4afe-8353-30ce42f23906",
   "metadata": {},
   "source": [
    "[Chirag Tak](https://chirag-tak.github.io/)"
   ]
  },
  {
   "cell_type": "markdown",
   "id": "e9c5221e-ca10-40d2-818d-c5e1cc27acfa",
   "metadata": {},
   "source": [
    "Author: [Chirag Tak]"
   ]
  },
  {
   "cell_type": "code",
   "execution_count": null,
   "id": "df5dc017-0b67-4648-a243-ba7090655fea",
   "metadata": {},
   "outputs": [],
   "source": []
  }
 ],
 "metadata": {
  "kernelspec": {
   "display_name": "Python 3 (ipykernel)",
   "language": "python",
   "name": "python3"
  },
  "language_info": {
   "codemirror_mode": {
    "name": "ipython",
    "version": 3
   },
   "file_extension": ".py",
   "mimetype": "text/x-python",
   "name": "python",
   "nbconvert_exporter": "python",
   "pygments_lexer": "ipython3",
   "version": "3.12.1"
  }
 },
 "nbformat": 4,
 "nbformat_minor": 5
}
